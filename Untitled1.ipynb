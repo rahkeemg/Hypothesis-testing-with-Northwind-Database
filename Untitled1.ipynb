{
 "cells": [
  {
   "cell_type": "markdown",
   "metadata": {},
   "source": [
    "# Hypothess Testing with Northwind Database"
   ]
  },
  {
   "cell_type": "markdown",
   "metadata": {},
   "source": [
    "For this project, you'll be working with the Northwind database--a free, open-source dataset created by Microsoft containing data from a fictional company. You probably remember the Northwind database from our section on Advanced SQL. Here's the schema for the Northwind database:\n",
    "\n",
    "<img src='https://raw.githubusercontent.com/learn-co-curriculum/dsc-mod-3-project/master/Northwind_ERD_updated.png'>\n",
    "\n",
    "## Purpose: \n",
    "\n",
    "The purpose of this project is to practice hypothesis testing and answer the following questions in the process:\n",
    "    \n",
    "**Question_1**: _Does discount amount have a statistically significant effect on the quantity of a product in an order? If so, at what level(s) of discount?_\n",
    "\n",
    "**Question_2:** _Is there a significant difference between local and international sales?_\n",
    "\n",
    "**Question_3:** _Do the category/type of goods have a significant impact on the quantity ordered?_\n",
    "\n",
    "**Question_4:** _Are there certain products that have a significant statistical difference, within the revenue generated with respective catgories?_"
   ]
  },
  {
   "cell_type": "markdown",
   "metadata": {},
   "source": [
    "## Questions & Summary"
   ]
  },
  {
   "cell_type": "markdown",
   "metadata": {},
   "source": [
    "#### **Question_1:**  _Does discount amount have a statistically significant effect on the quantity of a product in an order? If so, at what level(s) of discount?_\n",
    "\n",
    "For full notebook information and testing, click on the link below:\n",
    "\n",
    "[Question_1 Notebook](Question_1.ipynb)\n",
    "______________________\n",
    "\n",
    "\n",
    "#### Question_2: _Is there a significant difference between local and international sales?_\n",
    "For full notebook information and testing, click on the link below:\n",
    "\n",
    "[Question_2 Notebook](Question_2.ipynb)\n",
    "\n",
    "_______________________\n",
    "\n",
    "#### Question_3:  _Do the category/type of goods have a significant impact on the quantity ordered?_\n",
    "For full notebook information and testing, click on the link below:\n",
    "\n",
    "[Question_3 Notebook](Question_3.ipynb)\n",
    "________________________\n",
    "\n",
    "#### Question_4:  _Are there certain products that have a significant statistical difference, within the revenue generated with respective catgories?_\n",
    "For full notebook information and testing, click on the link below:\n",
    "\n",
    "[Question_4 Notebook](Question_4.ipynb)"
   ]
  },
  {
   "cell_type": "code",
   "execution_count": null,
   "metadata": {},
   "outputs": [],
   "source": []
  }
 ],
 "metadata": {
  "kernelspec": {
   "display_name": "Python [conda env:learn-env] *",
   "language": "python",
   "name": "conda-env-learn-env-py"
  },
  "language_info": {
   "codemirror_mode": {
    "name": "ipython",
    "version": 3
   },
   "file_extension": ".py",
   "mimetype": "text/x-python",
   "name": "python",
   "nbconvert_exporter": "python",
   "pygments_lexer": "ipython3",
   "version": "3.6.6"
  }
 },
 "nbformat": 4,
 "nbformat_minor": 2
}
